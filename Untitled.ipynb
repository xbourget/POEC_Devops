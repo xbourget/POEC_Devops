{
 "cells": [
  {
   "cell_type": "code",
   "execution_count": 1,
   "id": "043bab92-1d3e-40db-9807-385dc33d9755",
   "metadata": {},
   "outputs": [
    {
     "name": "stdout",
     "output_type": "stream",
     "text": [
      "6\n"
     ]
    }
   ],
   "source": [
    "print( 2*3)"
   ]
  },
  {
   "cell_type": "code",
   "execution_count": null,
   "id": "f36c51e0-07fb-475e-9365-a3a56d705d16",
   "metadata": {},
   "outputs": [],
   "source": []
  }
 ],
 "metadata": {
  "kernelspec": {
   "display_name": "Python 3 (ipykernel)",
   "language": "python",
   "name": "python3"
  },
  "language_info": {
   "codemirror_mode": {
    "name": "ipython",
    "version": 3
   },
   "file_extension": ".py",
   "mimetype": "text/x-python",
   "name": "python",
   "nbconvert_exporter": "python",
   "pygments_lexer": "ipython3",
   "version": "3.10.12"
  }
 },
 "nbformat": 4,
 "nbformat_minor": 5
}
